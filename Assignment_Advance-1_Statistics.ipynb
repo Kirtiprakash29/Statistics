{
 "cells": [
  {
   "cell_type": "markdown",
   "id": "7c490812-99b2-4e5d-9dd4-3bf9cd0e98ac",
   "metadata": {},
   "source": [
    "Q1. What is the Probability density function?\n",
    "\n",
    "\n",
    "->The probability density function (PDF) is a statistical expression that defines the probability that some outcome will occur. In this function, the probability is the percentage of a dataset's distribution that falls between two criteria.\n",
    "PDFs are usually plotted on a graph that typically resembles a bell curve, with the data lying below the curve."
   ]
  },
  {
   "cell_type": "markdown",
   "id": "e9987d46-17c3-46b0-8565-b3a2921bfb87",
   "metadata": {},
   "source": [
    "Q2. What are the types of Probability distribution?\n",
    "\n",
    "There are two types of probability distributions:\n",
    "\n",
    "Discrete probability distributions\n",
    "Continuous probability distributions\n",
    "\n",
    "A discrete probability distribution is a probability distribution of a categorical or discrete variable.\n",
    "Discrete probability distributions only include the probabilities of values that are possible. In other words, a discrete probability distribution doesn’t include any values with a probability of zero. For example, a probability distribution of dice rolls doesn’t include 2.5 since it’s not a possible outcome of dice rolls.\n",
    "The probability of all possible values in a discrete probability distribution add up to one. It’s certain (i.e., a probability of one) that an observation will have one of the possible values.\n",
    "\n",
    "A continuous probability distribution is the probability distribution of a continuous variable.\n",
    "A continuous variable can have any value between its lowest and highest values. Therefore, continuous probability distributions include every number in the variable’s range.\n",
    "The probability that a continuous variable will have any specific value is so infinitesimally small that it’s considered to have a probability of zero. However, the probability that a value will fall within a certain interval of values within its range is greater than zero."
   ]
  },
  {
   "cell_type": "markdown",
   "id": "239fbf00-efdb-4aca-88dc-3ffc52146a74",
   "metadata": {},
   "source": [
    "Q3. Write a Python function to calculate the probability density function of a normal distribution with\n",
    "given mean and standard deviation at a given point.\n"
   ]
  },
  {
   "cell_type": "code",
   "execution_count": 14,
   "id": "ca9e8922-568b-4eac-943f-7cc3fc3683e4",
   "metadata": {},
   "outputs": [
    {
     "data": {
      "text/plain": [
       "array([0.04366227, 0.06754865, 0.09370212, 0.11654793, 0.12998168,\n",
       "       0.12998168, 0.11654793, 0.09370212, 0.06754865, 0.04366227])"
      ]
     },
     "execution_count": 14,
     "metadata": {},
     "output_type": "execute_result"
    }
   ],
   "source": [
    "import scipy.stats as stp\n",
    "import statistics as st\n",
    "def pdf_func(x,mean,std):\n",
    "    pdf_calc = stp.norm.pdf(x,loc=mean,scale=std)\n",
    "    return pdf_calc\n",
    "data = [1,2,3,4,5,6,7,8,9,10]\n",
    "mean = st.mean(data)\n",
    "std = st.stdev(data)\n",
    "x= 5\n",
    "pdf_func(data,mean,std)"
   ]
  },
  {
   "cell_type": "markdown",
   "id": "9b6f680a-a434-4d6a-b2a7-d93bf2c24433",
   "metadata": {},
   "source": [
    "Q4. What are the properties of Binomial distribution? Give two examples of events where binomial\n",
    "distribution can be applied.\n",
    "->The properties of the binomial distribution are:\n",
    "\n",
    "There are two possible outcomes: true or false, success or failure, yes or no.\n",
    "There is ‘n’ number of independent trials or a fixed number of n times repeated trials.\n",
    "The probability of success or failure remains the same for each trial.\n",
    "Only the number of success is calculated out of n independent trials.\n",
    "Every trial is an independent trial, which means the outcome of one trial does not affect the outcome of another trial.\n",
    "\n",
    "For Example:- Sample of 5 tossing of coins- Either Tail or head will be outcome at each instance\n",
    "\n",
    "Sample of marks five subjects where in accordance to marks>=40 it is denoted as 'Success' or 'Failure'"
   ]
  },
  {
   "cell_type": "markdown",
   "id": "2bcc31c7-cd9c-4633-9f19-5d9f5c202b79",
   "metadata": {},
   "source": [
    "Q5. Generate a random sample of size 1000 from a binomial distribution with probability of success 0.4\n",
    "and plot a histogram of the results using matplotlib.\n"
   ]
  },
  {
   "cell_type": "code",
   "execution_count": 16,
   "id": "5404b963-8c40-4c10-8fd1-2cc121f2e892",
   "metadata": {},
   "outputs": [
    {
     "data": {
      "text/plain": [
       "<AxesSubplot: ylabel='Count'>"
      ]
     },
     "execution_count": 16,
     "metadata": {},
     "output_type": "execute_result"
    },
    {
     "data": {
      "image/png": "[encoded data removed]",
      "text/plain": [
       "<Figure size 640x480 with 1 Axes>"
      ]
     },
     "metadata": {},
     "output_type": "display_data"
    }
   ],
   "source": [
    "import seaborn as sns\n",
    "n, p = 10, .4\n",
    "s = np.random.binomial(n, p, 1000)\n",
    "sns.histplot(s)"
   ]
  },
  {
   "cell_type": "markdown",
   "id": "69de92a4-b2b0-4746-a823-181960997687",
   "metadata": {},
   "source": [
    "Q6. Write a Python function to calculate the cumulative distribution function of a Poisson distribution\n",
    "with given mean at a given point."
   ]
  },
  {
   "cell_type": "code",
   "execution_count": 20,
   "id": "c9c7ecc7-9be8-4b36-b708-dd887faa7567",
   "metadata": {},
   "outputs": [
    {
     "data": {
      "text/plain": [
       "0.8158857925585467"
      ]
     },
     "execution_count": 20,
     "metadata": {},
     "output_type": "execute_result"
    }
   ],
   "source": [
    "from scipy.stats import poisson\n",
    "def cdf_pos(p,mean):\n",
    "    calc= poisson.cdf(k=p, mu=mean)\n",
    "    return calc\n",
    "cdf_pos(10,8)\n"
   ]
  },
  {
   "cell_type": "markdown",
   "id": "f8f27834-886e-4bc5-af80-ca79119b1093",
   "metadata": {},
   "source": [
    "Q7. How Binomial distribution different from Poisson distribution?\n",
    "\n",
    "->Binomial distribution is concerned with respect to occurence of such event which has only two outcomes while poisson distribution is concerned with relevant outcome in fix point/interval of time. Thus, no of events is dependent on time consumed for one event.\n",
    "In binomialdistribution,no time limit is concerned."
   ]
  },
  {
   "cell_type": "markdown",
   "id": "45a389a5-3538-4575-812a-36cdd86504d0",
   "metadata": {},
   "source": [
    "Q8. Generate a random sample of size 1000 from a Poisson distribution with mean 5 and calculate the\n",
    "sample mean and variance.\n"
   ]
  },
  {
   "cell_type": "code",
   "execution_count": 24,
   "id": "0f5eb9d7-0ce7-4635-b53c-b189a43e7d7a",
   "metadata": {},
   "outputs": [
    {
     "name": "stdout",
     "output_type": "stream",
     "text": [
      "Mean 3.9\n",
      "Variance 3.8899999999999997\n"
     ]
    }
   ],
   "source": [
    "from scipy.stats import poisson\n",
    "\n",
    "#generate random values from Poisson distribution with mean=3 and sample size=10\n",
    "x = poisson.rvs(mu=5, size=10)\n",
    "m = np.mean(x)\n",
    "v = np.var(x)\n",
    "print(\"Mean\",m)\n",
    "print(\"Variance\",v)"
   ]
  },
  {
   "cell_type": "markdown",
   "id": "73af8c41-b474-4c10-92d8-1904c7295b32",
   "metadata": {},
   "source": [
    "Q9. How mean and variance are related in Binomial distribution and Poisson distribution?\n",
    "\n",
    "->In binomial distribution Mean > Variance while in poisson distribution mean = variance"
   ]
  },
  {
   "cell_type": "markdown",
   "id": "b8e1bf87-7817-4cfe-bad7-a8d68696d71a",
   "metadata": {},
   "source": [
    "Q10. In normal distribution with respect to mean position, where does the least frequent data appear?\n",
    "\n",
    "->Towards Right,left ends i.E away from bulged curve"
   ]
  },
  {
   "cell_type": "code",
   "execution_count": null,
   "id": "1cf40eb6-5538-4439-9fcc-f4cda8f6f659",
   "metadata": {},
   "outputs": [],
   "source": []
  },
  {
   "cell_type": "code",
   "execution_count": null,
   "id": "de62d2a1-cddc-44f0-8b19-087afce35c79",
   "metadata": {},
   "outputs": [],
   "source": []
  }
 ],
 "metadata": {
  "kernelspec": {
   "display_name": "Python 3 (ipykernel)",
   "language": "python",
   "name": "python3"
  },
  "language_info": {
   "codemirror_mode": {
    "name": "ipython",
    "version": 3
   },
   "file_extension": ".py",
   "mimetype": "text/x-python",
   "name": "python",
   "nbconvert_exporter": "python",
   "pygments_lexer": "ipython3",
   "version": "3.10.8"
  }
 },
 "nbformat": 4,
 "nbformat_minor": 5
}
