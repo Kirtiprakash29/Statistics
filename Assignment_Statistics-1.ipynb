{
 "cells": [
  {
   "cell_type": "markdown",
   "id": "e007524d-81ec-491a-8603-1288cf213f04",
   "metadata": {},
   "source": [
    "Q1. What are the three measures of central tendency?\n",
    "\n",
    "->Mean,Median,Mode\n",
    "\n"
   ]
  },
  {
   "cell_type": "markdown",
   "id": "997c11d4-df99-4436-b005-cd87e708042a",
   "metadata": {},
   "source": [
    "Q2. What is the difference between the mean, median, and mode? How are they used to measure the\n",
    "central tendency of a dataset?\n",
    "\n",
    "->Mean is the average of values present in listor dataset\n",
    "Median is the middle value of dataset\n",
    "Mode is the frequency of highest recurring element\n",
    "They are used in terms of descriptive statistics to have an idea of distribution of data for further analysis\n"
   ]
  },
  {
   "cell_type": "markdown",
   "id": "f71b161a-696d-46d9-ab17-951b07c542bf",
   "metadata": {},
   "source": [
    "\n",
    "\n",
    "Q3. Measure the three measures of central tendency for the given height data:\n",
    "\n",
    "[178,177,176,177,178.2,178,175,179,180,175,178.9,176.2,177,172.5,178,176.5]\n",
    "\n"
   ]
  },
  {
   "cell_type": "code",
   "execution_count": 4,
   "id": "846016ce-6c6f-4641-b467-58acdd3eb38f",
   "metadata": {},
   "outputs": [
    {
     "name": "stdout",
     "output_type": "stream",
     "text": [
      "Measures of central tendency for given data\n",
      "177.01875\n",
      "177.0\n",
      "178\n"
     ]
    }
   ],
   "source": [
    "import numpy as np\n",
    "import statistics as stp\n",
    "data_Q3 = [178,177,176,177,178.2,178,175,179,180,175,178.9,176.2,177,172.5,178,176.5]\n",
    "print(\"Measures of central tendency for given data\")\n",
    "print(stp.mean(data_Q3))\n",
    "print(stp.median(data_Q3))\n",
    "print(stp.mode(data_Q3))"
   ]
  },
  {
   "cell_type": "markdown",
   "id": "5d89f5b7-690a-4776-aea3-27dfe694a9c7",
   "metadata": {},
   "source": [
    "Q4. Find the standard deviation for the given data:\n",
    "\n",
    "[178,177,176,177,178.2,178,175,179,180,175,178.9,176.2,177,172.5,178,176.5]\n",
    "\n"
   ]
  },
  {
   "cell_type": "code",
   "execution_count": 6,
   "id": "26b893b1-81a5-44f8-ab74-ba4a7eb350bc",
   "metadata": {},
   "outputs": [
    {
     "data": {
      "text/plain": [
       "1.8472389305844188"
      ]
     },
     "execution_count": 6,
     "metadata": {},
     "output_type": "execute_result"
    }
   ],
   "source": [
    "data_Q4 = [178,177,176,177,178.2,178,175,179,180,175,178.9,176.2,177,172.5,178,176.5]\n",
    "stp.stdev(data_Q4)"
   ]
  },
  {
   "cell_type": "markdown",
   "id": "00f10924-edb3-4676-a782-9bab7bd6ca2a",
   "metadata": {},
   "source": [
    "Q5. How are measures of dispersion such as range, variance, and standard deviation used to describe\n",
    "the spread of a dataset? Provide an example.\n",
    "->They are used to desribe spread of data in terms ofanalysis of it vis-s-vis Ranges provides maximum-minimum value of data.For example with repect to no of days in a month range is 28-31 i.e minimum 28 days or maximum 31 days a month\n",
    "Variance gives spread of data as to how spread they are from mean(average)\n",
    "Standard DEviation is a measure of spread of data about the mean. SD is the square root of sum of squared deviation from the mean divided by the number of observations.\n",
    "\n",
    "Standard deviation measures how far apart numbers are in a data set. Variance, on the other hand, gives an actual value to how much the numbers in a data set vary from the mean.\n",
    "\n"
   ]
  },
  {
   "cell_type": "markdown",
   "id": "2e12284c-96d5-473c-8d62-3fd9d530268a",
   "metadata": {},
   "source": [
    "Q6. What is a Venn diagram?\n",
    "->A diagram representing mathematical or logical sets pictorially as circles or closed curves within an enclosing rectangle (the universal set), common elements of the sets being represented by intersections of the circles.\n",
    "\n"
   ]
  },
  {
   "cell_type": "markdown",
   "id": "761be858-b66f-4885-b10d-2620d8b6cd92",
   "metadata": {},
   "source": [
    "Q7. For the two given sets A = (2,3,4,5,6,7) & B = (0,2,6,8,10). Find:\n",
    "\n",
    "(i) A intersection B - (2,6)\n",
    "\n",
    "(ii) A union B - (0,2,3,4,5,6,7,8,10)"
   ]
  },
  {
   "cell_type": "markdown",
   "id": "46841556-bf05-4f7e-898d-71759ba45363",
   "metadata": {},
   "source": [
    "Q8. What do you understand about skewness in data?\n",
    "->Skewness denote symmetry of data  as to which direction data is more tilted in terms of dispersion and central tendency of data\n"
   ]
  },
  {
   "cell_type": "markdown",
   "id": "d678a9e9-02d8-491c-acc3-e5e56d5e2669",
   "metadata": {},
   "source": [
    "Q9. If a data is right skewed then what will be the position of median with respect to mean?\n",
    "->Mean will be on right side to median i.e Mean> Median\n"
   ]
  },
  {
   "cell_type": "markdown",
   "id": "c42142ba-9335-4b5e-9704-091a8b3bee71",
   "metadata": {},
   "source": [
    "Q10. Explain the difference between covariance and correlation. How are these measures used in\n",
    "statistical analysis?\n",
    "Covariance denote the relativity of data.It  signify whether data is related to each other or not.Also if data is directly related then value id positive and if inversely connected then value is negative\n",
    "However correlation denote extent to which data is related.Correlation is -1 to 1. Value closer to 1 denote positive relation\n",
    "\n"
   ]
  },
  {
   "cell_type": "markdown",
   "id": "24fbd665-8c2b-4419-82bf-2d4964a8c67b",
   "metadata": {},
   "source": [
    "Q11. What is the formula for calculating the sample mean? Provide an example calculation for a\n",
    "dataset.\n",
    "->SUM/n\n",
    "Sample = [1,2,3,4,5,6]\n",
    "Mean = 21/6 = 3.5\n",
    "\n"
   ]
  },
  {
   "cell_type": "markdown",
   "id": "29549952-59f0-415b-bc31-59582533b4d3",
   "metadata": {},
   "source": [
    "Q12. For a normal distribution data what is the relationship between its measure of central tendency?\n",
    "->Mean = Median = Mode\n"
   ]
  },
  {
   "cell_type": "markdown",
   "id": "f33a99d6-9f37-4a2b-84ea-55620c3db0bd",
   "metadata": {},
   "source": [
    "Q13. How is covariance different from correlation?\n",
    "Correlation also signify degree to which two attributes are related to each other"
   ]
  },
  {
   "cell_type": "markdown",
   "id": "ea8d4da8-e5f0-4759-8595-0a79a3f66542",
   "metadata": {},
   "source": [
    "Q14. How do outliers affect measures of central tendency and dispersion? Provide an example.\n",
    "Outliers can significantly influence measures of central tendency and dispersion.\n",
    "\n",
    "Measures of Central Tendency:\n",
    "\n",
    "Mean: Outliers can pull the mean towards their extreme values. If there are outliers with large values, the mean can be inflated, while outliers with small values can lower the mean.\n",
    "Median: The median is less affected by outliers compared to the mean. It represents the middle value, so outliers have less impact unless they are close to the median and significantly change the order of values.\n",
    "Mode: The mode is the most frequent value. Outliers do not directly affect the mode unless they appear frequently and change the overall distribution of values.\n",
    "Measures of Dispersion:\n",
    "\n",
    "Range: The range is the difference between the maximum and minimum values. Outliers can significantly increase the range if they are far from the other values.\n",
    "Interquartile Range (IQR): The IQR is less affected by outliers compared to the range since it only considers the values within the 25th and 75th percentiles. However, extreme outliers can still impact the IQR.\n",
    "Standard Deviation/Variance: Outliers can increase the standard deviation and variance, as they introduce more variability to the dataset. The squared differences between outliers and the mean can significantly contribute to the variance.\n",
    " \n",
    "\n",
    "Outliers can distort the measures of central tendency (mean, median, mode) and measures of dispersion (range, standard deviation, variance). It is important to be aware of outliers and consider their potential influence when interpreting and analyzing data.\n"
   ]
  },
  {
   "cell_type": "code",
   "execution_count": null,
   "id": "026d8485-785c-423d-8ebc-d432bec8e300",
   "metadata": {},
   "outputs": [],
   "source": []
  }
 ],
 "metadata": {
  "kernelspec": {
   "display_name": "Python 3 (ipykernel)",
   "language": "python",
   "name": "python3"
  },
  "language_info": {
   "codemirror_mode": {
    "name": "ipython",
    "version": 3
   },
   "file_extension": ".py",
   "mimetype": "text/x-python",
   "name": "python",
   "nbconvert_exporter": "python",
   "pygments_lexer": "ipython3",
   "version": "3.10.8"
  }
 },
 "nbformat": 4,
 "nbformat_minor": 5
}
