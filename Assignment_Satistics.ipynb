{
 "cells": [
  {
   "cell_type": "markdown",
   "id": "7581dc9e-1f6d-427e-89d8-f8645fa36a1f",
   "metadata": {},
   "source": [
    "Q1. What is Statistics?\n",
    " -> Statistics is the science of collecting,organising and analysing data.\n",
    " "
   ]
  },
  {
   "cell_type": "markdown",
   "id": "8be076c8-e4c4-44f3-97e1-145c706d185f",
   "metadata": {},
   "source": [
    "Q2. Define the different types of statistics and give an example of when each type might be used.\n",
    "->Two types of statistics are:-\n",
    "Descriptive Statistics - One which gives description or details from dataset.\n",
    "Example - To do exploratory data analysis, we calculate mean,median,mode,variance and deciation etc of dataset to get understanding of data\n",
    "\n",
    "Inferential statistics - One which gives conclusion from statistics\n",
    "clinical trials use inferential statistics to determine whether a new drug is effective in treating a particular medical condition\n"
   ]
  },
  {
   "cell_type": "markdown",
   "id": "f5e3185d-ee07-4621-b1fc-f47d0afc7946",
   "metadata": {},
   "source": [
    "Q3. What are the different types of data and how do they differ from each other? Provide an example of\n",
    "each type of data.\n",
    "Two Types of Data are- Quantitative Data, Qualitative Data\n",
    "Quantitative data refers to numerical value of data. Height of population -[160cm,170cm,154cm]\n",
    "\n",
    "Qualitative data refers to categorical datatypes like Color of clothes - [RED,BLUE,GREEN]"
   ]
  },
  {
   "cell_type": "markdown",
   "id": "bd762739-9416-4bef-92c1-3634f7662ffb",
   "metadata": {},
   "source": [
    "Q4. Categorise the following datasets with respect to quantitative and qualitative data types:\n",
    "(i) Grading in exam: A+, A, B+, B, C+, C, D, E \n",
    "->Qualitative data(Ordinal)\n",
    "\n",
    "\n",
    "(ii) Colour of mangoes: yellow, green, orange, red\n",
    "->Qualitative(Nominal)\n",
    "\n",
    "\n",
    "(iii) Height data of a class: [178.9, 179, 179.5, 176, 177.2, 178.3, 175.8,...]\n",
    "->Quantitative(Continuous)\n",
    "\n",
    "\n",
    "(iv) Number of mangoes exported by a farm: [500, 600, 478, 672, ...]\n",
    "->Quantitative(Numerical)"
   ]
  },
  {
   "cell_type": "markdown",
   "id": "9c860f90-a0b8-4199-ad8e-fed661fd95c0",
   "metadata": {},
   "source": [
    "Q5. Explain the concept of levels of measurement and give an example of a variable for each level.\n",
    "->Levels of measurement, also called scales of measurement, tell you how precisely variables are recorded. In scientific research, a variable is anything that can take on different values across your data set (e.g., height or test scores).\n",
    "\n",
    "There are 4 levels of measurement:\n",
    "\n",
    "Nominal: the data can only be categorized -  Colors[REd,Blue,Green]\n",
    "Ordinal: the data can be categorized and ranked Grades[A+,A,B,B+]\n",
    "Interval: the data can be categorized, ranked, and evenly spaced.Here zero is meaningless - TEmperature[-10-10F,10-30F,30-50F]\n",
    "Ratio: the data can be categorized, ranked, evenly spaced, and has a natural zero. MArks - [20,30,40,50]"
   ]
  },
  {
   "cell_type": "markdown",
   "id": "de77b054-4d34-49c2-8c5e-c764f2668fbc",
   "metadata": {},
   "source": [
    "Q6. Why is it important to understand the level of measurement when analyzing data? Provide an\n",
    "example to illustrate your answer.\n",
    "-Levels of measurement are important because they indicate the extent to which statisticians, marketing analysts and financial analysts can use existing data. The whole descriptive statistics is based on analysis of data which cannotbe done without measurement. For instance, if you classify your data at the ordinal level of measurement, you know that you can evaluate how items compare to each other based on a specific hierarchy. If you wanted to analyze the exact distance between items rather than understand only how they compare to one another, you might want to rely on data at the interval level of measurement.\n",
    "\n",
    "Understanding levels of measurement can also help you properly plan your research. For instance, if you want to gather data with a true zero point, you can invest the appropriate resources to go beyond nominal data and gather data that adheres to the ratio level of measurement"
   ]
  },
  {
   "cell_type": "markdown",
   "id": "37fd6fae-44de-43e0-8061-0324b1c9ac44",
   "metadata": {},
   "source": [
    "Q7. How nominal data type is different from ordinal data type.\n",
    "->Nominal type data has different categories. These categories cannot be prioritised or ordered However ordinal type data can be ordered based on data\n"
   ]
  },
  {
   "cell_type": "markdown",
   "id": "4a1a5323-5560-4f9b-8580-caa6accd5227",
   "metadata": {},
   "source": [
    "Q8. Which type of plot can be used to display data in terms of range?\n",
    "->Histograms"
   ]
  },
  {
   "cell_type": "markdown",
   "id": "f5725180-406d-419c-a670-510832a22979",
   "metadata": {},
   "source": [
    "Q9. Describe the difference between descriptive and inferential statistics. Give an example of each\n",
    "type of statistics and explain how they are used.\n",
    "Descriptive Statistics - One which gives description or details from dataset.\n",
    "Example - To do exploratory data analysis, we calculate mean,median,mode,variance and deciation etc of dataset to get understanding of data\n",
    "\n",
    "Inferential statistics - One which gives conclusion from statistics\n",
    "clinical trials use inferential statistics to determine whether a new drug is effective in treating a particular medical condition\n"
   ]
  },
  {
   "cell_type": "markdown",
   "id": "e20a3ede-48d2-41fe-92cb-85e09ddade77",
   "metadata": {},
   "source": [
    "Q10. What are some common measures of central tendency and variability used in statistics? Explain\n",
    "how each measure can be used to describe a dataset.\n",
    "->Measures of central tendency categories or scores that describe what is \"average\" of a given distribution. These include the mode, median and mean.\n",
    "Mean-Average of distribution sample\n",
    "Median-Centre point of data\n",
    "Mode-Data with highest frequency\n",
    "\n",
    "\n",
    "Variablility-we may need to summarize the amount of variability we have in our distribution. In other words, we need to determine if the observations tend to cluster together or if they tend to be spread out. Consider the following example:\n",
    "\n",
    "Sample 1: {0, 0, 0, 0, 25}\n",
    "Sample 2: {5, 5, 5, 5, 5}\n",
    "\n",
    "Both of these samples have identical means (5) and an identical number of observations (n = 5), but the amount of variation between the two samples differs considerably. Sample 2 has no variability (all scores are exactly the same), whereas Sample 1 has relatively more (one case varies substantially from the other four). In this course, we will be going over four measures of variability: the range, the inter-quartile range (IQR), the variance and the standard deviation.\n"
   ]
  }
 ],
 "metadata": {
  "kernelspec": {
   "display_name": "Python 3 (ipykernel)",
   "language": "python",
   "name": "python3"
  },
  "language_info": {
   "codemirror_mode": {
    "name": "ipython",
    "version": 3
   },
   "file_extension": ".py",
   "mimetype": "text/x-python",
   "name": "python",
   "nbconvert_exporter": "python",
   "pygments_lexer": "ipython3",
   "version": "3.10.8"
  }
 },
 "nbformat": 4,
 "nbformat_minor": 5
}
